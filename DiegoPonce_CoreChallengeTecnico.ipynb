{
 "cells": [
  {
   "cell_type": "code",
   "execution_count": null,
   "id": "23a95ceb",
   "metadata": {},
   "outputs": [],
   "source": [
    "# 📦 Importar librerías necesarias\n",
    "import pandas as pd\n",
    "import numpy as np\n",
    "import seaborn as sns\n",
    "import matplotlib.pyplot as plt\n",
    "from sklearn.model_selection import train_test_split, cross_val_score, GridSearchCV, RandomizedSearchCV\n",
    "from sklearn.preprocessing import StandardScaler\n",
    "from sklearn.metrics import classification_report, accuracy_score, f1_score, roc_auc_score\n",
    "from sklearn.linear_model import LogisticRegression\n",
    "from sklearn.neighbors import KNeighborsClassifier\n",
    "from sklearn.tree import DecisionTreeClassifier\n",
    "from xgboost import XGBClassifier\n",
    "from lightgbm import LGBMClassifier\n",
    "import warnings\n",
    "warnings.filterwarnings('ignore')"
   ]
  },
  {
   "cell_type": "code",
   "execution_count": null,
   "id": "5b1b7174",
   "metadata": {},
   "outputs": [],
   "source": [
    "# Usamos la biblioteca google para poder usar archivos en nuestro drive.\n",
    "from google.colab import drive\n",
    "# Este comando conecta colab con drive.\n",
    "drive.mount('/content/drive')\n",
    "\n",
    "path = \"/content/drive/MyDrive/datasets/train.csv\"\n",
    "df = pd.read_csv(path, sep=\";\")"
   ]
  },
  {
   "cell_type": "code",
   "execution_count": null,
   "id": "5cdf2220",
   "metadata": {},
   "outputs": [],
   "source": [
    "# 🔍 Información general\n",
    "df.info()"
   ]
  },
  {
   "cell_type": "code",
   "execution_count": null,
   "id": "99e9529f",
   "metadata": {},
   "outputs": [],
   "source": [
    "# 📊 Estadísticas descriptivas\n",
    "df.describe()"
   ]
  },
  {
   "cell_type": "code",
   "execution_count": null,
   "id": "d0303b34",
   "metadata": {},
   "outputs": [],
   "source": [
    "# ❓ Valores faltantes\n",
    "df.isnull().sum()"
   ]
  },
  {
   "cell_type": "code",
   "execution_count": null,
   "id": "216b8747",
   "metadata": {},
   "outputs": [],
   "source": [
    "# ⚠️ Boxplot para outliers\n",
    "df.select_dtypes(include=np.number).boxplot(figsize=(15,6))\n",
    "plt.xticks(rotation=90)\n",
    "plt.title('Boxplot de variables numéricas')\n",
    "plt.show()"
   ]
  },
  {
   "cell_type": "code",
   "execution_count": null,
   "id": "62485006",
   "metadata": {},
   "outputs": [],
   "source": [
    "# 📈 Histogramas\n",
    "df.hist(bins=30, figsize=(15, 10))\n",
    "plt.tight_layout()\n",
    "plt.show()"
   ]
  },
  {
   "cell_type": "code",
   "execution_count": null,
   "id": "235c94ac",
   "metadata": {},
   "outputs": [],
   "source": [
    "# 🔥 Mapa de calor de correlación\n",
    "plt.figure(figsize=(12,8))\n",
    "sns.heatmap(df.corr(numeric_only=True), annot=True, cmap='coolwarm')\n",
    "plt.title('Matriz de Correlación')\n",
    "plt.show()"
   ]
  },
  {
   "cell_type": "code",
   "execution_count": null,
   "id": "c7e16d8b",
   "metadata": {},
   "outputs": [],
   "source": [
    "# 🧽 Imputar valores faltantes (mediana)\n",
    "df.fillna(df.median(numeric_only=True), inplace=True)"
   ]
  },
  {
   "cell_type": "code",
   "execution_count": null,
   "id": "756b6d23",
   "metadata": {},
   "outputs": [],
   "source": [
    "# 🚫 Eliminar outliers usando Z-score\n",
    "from scipy import stats\n",
    "z_scores = np.abs(stats.zscore(df.select_dtypes(include=np.number)))\n",
    "df = df[(z_scores < 3).all(axis=1)]\n",
    "df.shape"
   ]
  },
  {
   "cell_type": "code",
   "execution_count": null,
   "id": "06ad1089",
   "metadata": {},
   "outputs": [],
   "source": [
    "# 🔢 One-Hot Encoding a variables categóricas\n",
    "df_encoded = pd.get_dummies(df, drop_first=True)\n",
    "df_encoded.head()"
   ]
  },
  {
   "cell_type": "code",
   "execution_count": null,
   "id": "f45d4b92",
   "metadata": {},
   "outputs": [],
   "source": [
    "# ⚖️ Escalado de variables\n",
    "scaler = StandardScaler()\n",
    "X = df_encoded.drop('target', axis=1)  # Asegúrate de que 'target' es tu variable objetivo\n",
    "y = df_encoded['target']\n",
    "X_scaled = scaler.fit_transform(X)"
   ]
  },
  {
   "cell_type": "code",
   "execution_count": null,
   "id": "a9a2aca7",
   "metadata": {},
   "outputs": [],
   "source": [
    "# ✂️ Train/Test Split\n",
    "X_train, X_test, y_train, y_test = train_test_split(X_scaled, y, test_size=0.2, random_state=42)"
   ]
  },
  {
   "cell_type": "code",
   "execution_count": null,
   "id": "03169185",
   "metadata": {},
   "outputs": [],
   "source": [
    "# 🔁 Entrenamiento y evaluación de modelos\n",
    "models = {\n",
    "    'Logistic Regression': LogisticRegression(),\n",
    "    'KNN': KNeighborsClassifier(),\n",
    "    'Decision Tree': DecisionTreeClassifier(),\n",
    "    'XGBoost': XGBClassifier(eval_metric='logloss'),\n",
    "    'LightGBM': LGBMClassifier()\n",
    "}\n",
    "for name, model in models.items():\n",
    "    scores = cross_val_score(model, X_train, y_train, cv=5, scoring='accuracy')\n",
    "    print(f'{name}: Accuracy promedio = {scores.mean():.4f}')"
   ]
  },
  {
   "cell_type": "code",
   "execution_count": null,
   "id": "da1a7f6c",
   "metadata": {},
   "outputs": [],
   "source": [
    "# 🔍 GridSearchCV para LightGBM\n",
    "params = {\n",
    "    'n_estimators': [100, 200],\n",
    "    'learning_rate': [0.01, 0.1],\n",
    "    'num_leaves': [15, 31, 63]\n",
    "}\n",
    "grid_lgb = GridSearchCV(LGBMClassifier(), params, cv=3, scoring='accuracy')\n",
    "grid_lgb.fit(X_train, y_train)\n",
    "print('Mejores parámetros LightGBM:', grid_lgb.best_params_)"
   ]
  },
  {
   "cell_type": "code",
   "execution_count": null,
   "id": "02d7b36e",
   "metadata": {},
   "outputs": [],
   "source": [
    "# 📈 Evaluar el mejor modelo\n",
    "best_model = grid_lgb.best_estimator_\n",
    "y_pred = best_model.predict(X_test)\n",
    "print('Accuracy:', accuracy_score(y_test, y_pred))\n",
    "print('F1 Score:', f1_score(y_test, y_pred))\n",
    "print('ROC AUC:', roc_auc_score(y_test, best_model.predict_proba(X_test)[:,1]))\n",
    "print(classification_report(y_test, y_pred))"
   ]
  }
 ],
 "metadata": {
  "language_info": {
   "name": "python"
  }
 },
 "nbformat": 4,
 "nbformat_minor": 5
}
